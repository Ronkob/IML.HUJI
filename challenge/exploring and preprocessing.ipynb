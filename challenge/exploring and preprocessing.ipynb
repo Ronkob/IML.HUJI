{
 "cells": [
  {
   "cell_type": "markdown",
   "source": [
    "imports and stuff\n"
   ],
   "metadata": {
    "collapsed": false,
    "pycharm": {
     "name": "#%% md\n"
    }
   }
  },
  {
   "cell_type": "code",
   "execution_count": 4,
   "outputs": [
    {
     "data": {
      "text/plain": "          h_booking_id     booking_datetime         checkin_date  \\\n0 -9223194055642672935  2018-06-28 21:15:00  2018-07-09 00:00:00   \n1 -9222713784330706132  2018-08-10 22:31:00  2018-08-16 00:00:00   \n2 -9222411208325704942  2018-09-14 07:55:00  2018-09-14 00:00:00   \n3 -9222220845872895471  2018-06-25 07:33:00  2018-07-02 00:00:00   \n4 -9221127186162682116  2018-07-23 10:06:00  2018-08-09 00:00:00   \n\n         checkout_date  hotel_id hotel_country_code      hotel_live_date  \\\n0  2018-07-13 00:00:00      6452                 HK  2009-06-28 02:02:00   \n1  2018-08-17 00:00:00     47729                 CN  2011-06-07 11:52:00   \n2  2018-09-15 00:00:00    780431                 KR  2014-11-20 15:43:00   \n3  2018-07-03 00:00:00    291365                 JP  2011-11-21 12:27:00   \n4  2018-08-10 00:00:00    479046                 TH  2013-06-06 10:04:00   \n\n   hotel_star_rating accommadation_type_name charge_option  ...  \\\n0                4.0                   Hotel       Pay Now  ...   \n1                4.0                   Hotel     Pay Later  ...   \n2                4.0                   Hotel       Pay Now  ...   \n3                3.0                   Hotel     Pay Later  ...   \n4                3.0                  Resort     Pay Later  ...   \n\n   request_highfloor request_largebed  request_twinbeds request_airport  \\\n0                NaN              NaN               NaN             NaN   \n1                0.0              0.0               1.0             0.0   \n2                0.0              0.0               0.0             0.0   \n3                0.0              1.0               0.0             0.0   \n4                0.0              1.0               0.0             0.0   \n\n   request_earlycheckin  cancellation_datetime  hotel_area_code  \\\n0                   NaN                    NaN             1192   \n1                   0.0                    NaN             5617   \n2                   0.0                    NaN             3819   \n3                   0.0                    NaN             2379   \n4                   0.0             2018-07-23             1506   \n\n   hotel_brand_code hotel_chain_code hotel_city_code  \n0               NaN              NaN             142  \n1             902.0            600.0            1273  \n2               NaN              NaN            2799  \n3             466.0            236.0            1448  \n4               NaN              NaN             616  \n\n[5 rows x 39 columns]",
      "text/html": "<div>\n<style scoped>\n    .dataframe tbody tr th:only-of-type {\n        vertical-align: middle;\n    }\n\n    .dataframe tbody tr th {\n        vertical-align: top;\n    }\n\n    .dataframe thead th {\n        text-align: right;\n    }\n</style>\n<table border=\"1\" class=\"dataframe\">\n  <thead>\n    <tr style=\"text-align: right;\">\n      <th></th>\n      <th>h_booking_id</th>\n      <th>booking_datetime</th>\n      <th>checkin_date</th>\n      <th>checkout_date</th>\n      <th>hotel_id</th>\n      <th>hotel_country_code</th>\n      <th>hotel_live_date</th>\n      <th>hotel_star_rating</th>\n      <th>accommadation_type_name</th>\n      <th>charge_option</th>\n      <th>...</th>\n      <th>request_highfloor</th>\n      <th>request_largebed</th>\n      <th>request_twinbeds</th>\n      <th>request_airport</th>\n      <th>request_earlycheckin</th>\n      <th>cancellation_datetime</th>\n      <th>hotel_area_code</th>\n      <th>hotel_brand_code</th>\n      <th>hotel_chain_code</th>\n      <th>hotel_city_code</th>\n    </tr>\n  </thead>\n  <tbody>\n    <tr>\n      <th>0</th>\n      <td>-9223194055642672935</td>\n      <td>2018-06-28 21:15:00</td>\n      <td>2018-07-09 00:00:00</td>\n      <td>2018-07-13 00:00:00</td>\n      <td>6452</td>\n      <td>HK</td>\n      <td>2009-06-28 02:02:00</td>\n      <td>4.0</td>\n      <td>Hotel</td>\n      <td>Pay Now</td>\n      <td>...</td>\n      <td>NaN</td>\n      <td>NaN</td>\n      <td>NaN</td>\n      <td>NaN</td>\n      <td>NaN</td>\n      <td>NaN</td>\n      <td>1192</td>\n      <td>NaN</td>\n      <td>NaN</td>\n      <td>142</td>\n    </tr>\n    <tr>\n      <th>1</th>\n      <td>-9222713784330706132</td>\n      <td>2018-08-10 22:31:00</td>\n      <td>2018-08-16 00:00:00</td>\n      <td>2018-08-17 00:00:00</td>\n      <td>47729</td>\n      <td>CN</td>\n      <td>2011-06-07 11:52:00</td>\n      <td>4.0</td>\n      <td>Hotel</td>\n      <td>Pay Later</td>\n      <td>...</td>\n      <td>0.0</td>\n      <td>0.0</td>\n      <td>1.0</td>\n      <td>0.0</td>\n      <td>0.0</td>\n      <td>NaN</td>\n      <td>5617</td>\n      <td>902.0</td>\n      <td>600.0</td>\n      <td>1273</td>\n    </tr>\n    <tr>\n      <th>2</th>\n      <td>-9222411208325704942</td>\n      <td>2018-09-14 07:55:00</td>\n      <td>2018-09-14 00:00:00</td>\n      <td>2018-09-15 00:00:00</td>\n      <td>780431</td>\n      <td>KR</td>\n      <td>2014-11-20 15:43:00</td>\n      <td>4.0</td>\n      <td>Hotel</td>\n      <td>Pay Now</td>\n      <td>...</td>\n      <td>0.0</td>\n      <td>0.0</td>\n      <td>0.0</td>\n      <td>0.0</td>\n      <td>0.0</td>\n      <td>NaN</td>\n      <td>3819</td>\n      <td>NaN</td>\n      <td>NaN</td>\n      <td>2799</td>\n    </tr>\n    <tr>\n      <th>3</th>\n      <td>-9222220845872895471</td>\n      <td>2018-06-25 07:33:00</td>\n      <td>2018-07-02 00:00:00</td>\n      <td>2018-07-03 00:00:00</td>\n      <td>291365</td>\n      <td>JP</td>\n      <td>2011-11-21 12:27:00</td>\n      <td>3.0</td>\n      <td>Hotel</td>\n      <td>Pay Later</td>\n      <td>...</td>\n      <td>0.0</td>\n      <td>1.0</td>\n      <td>0.0</td>\n      <td>0.0</td>\n      <td>0.0</td>\n      <td>NaN</td>\n      <td>2379</td>\n      <td>466.0</td>\n      <td>236.0</td>\n      <td>1448</td>\n    </tr>\n    <tr>\n      <th>4</th>\n      <td>-9221127186162682116</td>\n      <td>2018-07-23 10:06:00</td>\n      <td>2018-08-09 00:00:00</td>\n      <td>2018-08-10 00:00:00</td>\n      <td>479046</td>\n      <td>TH</td>\n      <td>2013-06-06 10:04:00</td>\n      <td>3.0</td>\n      <td>Resort</td>\n      <td>Pay Later</td>\n      <td>...</td>\n      <td>0.0</td>\n      <td>1.0</td>\n      <td>0.0</td>\n      <td>0.0</td>\n      <td>0.0</td>\n      <td>2018-07-23</td>\n      <td>1506</td>\n      <td>NaN</td>\n      <td>NaN</td>\n      <td>616</td>\n    </tr>\n  </tbody>\n</table>\n<p>5 rows × 39 columns</p>\n</div>"
     },
     "execution_count": 4,
     "metadata": {},
     "output_type": "execute_result"
    }
   ],
   "source": [
    "import sys\n",
    "import numpy as np\n",
    "import pandas as pd\n",
    "sys.path.append('../')\n",
    "full_data = pd.read_csv(\"../datasets/agoda_cancellation_train.csv\")\n",
    "full_data.head()\n"
   ],
   "metadata": {
    "collapsed": false,
    "pycharm": {
     "name": "#%%\n"
    }
   }
  },
  {
   "cell_type": "markdown",
   "source": [
    "examine the different columns"
   ],
   "metadata": {
    "collapsed": false
   }
  },
  {
   "cell_type": "code",
   "execution_count": 5,
   "outputs": [
    {
     "data": {
      "text/plain": "bool     is_user_logged_in                                False\n         is_first_booking                                  True\nint64    h_booking_id                      -9223194055642672935\n         hotel_id                                          6452\n         h_customer_id                      6003835896819550002\n         guest_is_not_the_customer                            0\n         no_of_adults                                         2\n         no_of_children                                       0\n         no_of_extra_bed                                      0\n         no_of_room                                           1\n         hotel_area_code                                   1192\n         hotel_city_code                                    142\nfloat64  hotel_star_rating                                  4.0\n         original_selling_amount                         267.55\n         request_nonesmoke                                  NaN\n         request_latecheckin                                NaN\n         request_highfloor                                  NaN\n         request_largebed                                   NaN\n         request_twinbeds                                   NaN\n         request_airport                                    NaN\n         request_earlycheckin                               NaN\n         hotel_brand_code                                   NaN\n         hotel_chain_code                                   NaN\nobject   booking_datetime                   2018-06-28 21:15:00\n         checkin_date                       2018-07-09 00:00:00\n         checkout_date                      2018-07-13 00:00:00\n         hotel_country_code                                  HK\n         hotel_live_date                    2009-06-28 02:02:00\n         accommadation_type_name                          Hotel\n         charge_option                                  Pay Now\n         customer_nationality                             China\n         guest_nationality_country_name                   China\n         origin_country_code                                 CN\n         language                          S.Chinese / Mainland\n         original_payment_method                        UNKNOWN\n         original_payment_type                          Invoice\n         original_payment_currency                          CNY\n         cancellation_policy_code                 365D100P_100P\n         cancellation_datetime                              NaN\nName: 0, dtype: object"
     },
     "execution_count": 5,
     "metadata": {},
     "output_type": "execute_result"
    }
   ],
   "source": [
    "full_data.T.groupby(full_data.dtypes).apply(lambda df: df.iloc[:,0])"
   ],
   "metadata": {
    "collapsed": false,
    "pycharm": {
     "name": "#%%\n"
    }
   }
  },
  {
   "cell_type": "markdown",
   "source": [
    "insights:\n",
    "    - I don't think that the \"original_payment_method\" really matters, theres no need to fix \"UNKNOWN\" values, there is a lot of them\n",
    "    -"
   ],
   "metadata": {
    "collapsed": false
   }
  },
  {
   "cell_type": "code",
   "execution_count": 14,
   "outputs": [
    {
     "data": {
      "text/plain": "hotel_country_code           4\norigin_country_code          2\nrequest_nonesmoke        25040\nrequest_latecheckin      25040\nrequest_highfloor        25040\nrequest_largebed         25040\nrequest_twinbeds         25040\nrequest_airport          25040\nrequest_earlycheckin     25040\ncancellation_datetime    42895\nhotel_brand_code         43356\nhotel_chain_code         42902\ndtype: int64"
     },
     "execution_count": 14,
     "metadata": {},
     "output_type": "execute_result"
    }
   ],
   "source": [
    "missing_values_count = full_data.isnull().sum()\n",
    "missing_values_count.loc[missing_values_count > 0]"
   ],
   "metadata": {
    "collapsed": false,
    "pycharm": {
     "name": "#%%\n"
    }
   }
  },
  {
   "cell_type": "markdown",
   "source": [
    "cleaning some data\n",
    "    - removing rows with null \"hotel country code\" or null \"origin country code\"\n",
    "    - making the \"requests\" columns without nulls - replacing that with non-requests, a.k.a zero values\n",
    "    -\n",
    "    -"
   ],
   "metadata": {
    "collapsed": false
   }
  },
  {
   "cell_type": "code",
   "execution_count": 49,
   "outputs": [
    {
     "name": "stderr",
     "output_type": "stream",
     "text": [
      "C:\\Users\\PC\\.conda\\envs\\iml.env\\lib\\site-packages\\pandas\\core\\frame.py:3641: SettingWithCopyWarning: \n",
      "A value is trying to be set on a copy of a slice from a DataFrame.\n",
      "Try using .loc[row_indexer,col_indexer] = value instead\n",
      "\n",
      "See the caveats in the documentation: https://pandas.pydata.org/pandas-docs/stable/user_guide/indexing.html#returning-a-view-versus-a-copy\n",
      "  self[k1] = value[k2]\n"
     ]
    },
    {
     "data": {
      "text/plain": "              h_booking_id     booking_datetime         checkin_date  \\\n0     -9223194055642672935  2018-06-28 21:15:00  2018-07-09 00:00:00   \n1     -9222713784330706132  2018-08-10 22:31:00  2018-08-16 00:00:00   \n2     -9222411208325704942  2018-09-14 07:55:00  2018-09-14 00:00:00   \n3     -9222220845872895471  2018-06-25 07:33:00  2018-07-02 00:00:00   \n4     -9221127186162682116  2018-07-23 10:06:00  2018-08-09 00:00:00   \n...                    ...                  ...                  ...   \n58654  9221958224902563533  2018-07-18 22:07:00  2018-08-04 00:00:00   \n58655  9222015611933681753  2018-09-05 12:07:00  2018-09-06 00:00:00   \n58656  9222651806661094957  2018-06-08 23:23:00  2018-08-09 00:00:00   \n58657  9223221736086584899  2018-09-02 08:18:00  2018-09-10 00:00:00   \n58658  9223338323510018406  2018-07-07 10:46:00  2018-07-12 00:00:00   \n\n             checkout_date  hotel_id hotel_country_code      hotel_live_date  \\\n0      2018-07-13 00:00:00      6452                 HK  2009-06-28 02:02:00   \n1      2018-08-17 00:00:00     47729                 CN  2011-06-07 11:52:00   \n2      2018-09-15 00:00:00    780431                 KR  2014-11-20 15:43:00   \n3      2018-07-03 00:00:00    291365                 JP  2011-11-21 12:27:00   \n4      2018-08-10 00:00:00    479046                 TH  2013-06-06 10:04:00   \n...                    ...       ...                ...                  ...   \n58654  2018-08-05 00:00:00   2975682                 ID  2017-10-12 11:01:00   \n58655  2018-09-08 00:00:00   3579174                 PH  2017-11-30 00:42:00   \n58656  2018-08-11 00:00:00    407156                 TH  2015-03-14 05:18:00   \n58657  2018-09-12 00:00:00    303186                 DE  2012-04-13 17:48:00   \n58658  2018-07-14 00:00:00   2227632                 HK  2017-06-19 10:06:00   \n\n       hotel_star_rating        accommadation_type_name charge_option  ...  \\\n0                    4.0                          Hotel       Pay Now  ...   \n1                    4.0                          Hotel     Pay Later  ...   \n2                    4.0                          Hotel       Pay Now  ...   \n3                    3.0                          Hotel     Pay Later  ...   \n4                    3.0                         Resort     Pay Later  ...   \n...                  ...                            ...           ...  ...   \n58654                2.0  Guest House / Bed & Breakfast       Pay Now  ...   \n58655                4.0                      Apartment       Pay Now  ...   \n58656                5.0                          Hotel       Pay Now  ...   \n58657                0.0                         Hostel       Pay Now  ...   \n58658                4.0                          Hotel       Pay Now  ...   \n\n       request_highfloor request_largebed  request_twinbeds request_airport  \\\n0                    0.0              0.0               0.0             0.0   \n1                    0.0              0.0               1.0             0.0   \n2                    0.0              0.0               0.0             0.0   \n3                    0.0              1.0               0.0             0.0   \n4                    0.0              1.0               0.0             0.0   \n...                  ...              ...               ...             ...   \n58654                0.0              1.0               0.0             0.0   \n58655                0.0              0.0               0.0             0.0   \n58656                0.0              0.0               0.0             0.0   \n58657                0.0              0.0               1.0             0.0   \n58658                0.0              0.0               0.0             0.0   \n\n       request_earlycheckin  cancellation_datetime  hotel_area_code  \\\n0                       0.0                    NaN             1192   \n1                       0.0                    NaN             5617   \n2                       0.0                    NaN             3819   \n3                       0.0                    NaN             2379   \n4                       0.0             2018-07-23             1506   \n...                     ...                    ...              ...   \n58654                   0.0             2018-07-22              995   \n58655                   0.0                    NaN              674   \n58656                   0.0                    NaN             3823   \n58657                   0.0                    NaN             4663   \n58658                   0.0                    NaN             3023   \n\n       hotel_brand_code hotel_chain_code hotel_city_code  \n0                   NaN              NaN             142  \n1                 902.0            600.0            1273  \n2                   NaN              NaN            2799  \n3                 466.0            236.0            1448  \n4                   NaN              NaN             616  \n...                 ...              ...             ...  \n58654               NaN              NaN            2066  \n58655               NaN              NaN            2310  \n58656             754.0             55.0            2477  \n58657               NaN              NaN            1935  \n58658             477.0            638.0             142  \n\n[58654 rows x 39 columns]",
      "text/html": "<div>\n<style scoped>\n    .dataframe tbody tr th:only-of-type {\n        vertical-align: middle;\n    }\n\n    .dataframe tbody tr th {\n        vertical-align: top;\n    }\n\n    .dataframe thead th {\n        text-align: right;\n    }\n</style>\n<table border=\"1\" class=\"dataframe\">\n  <thead>\n    <tr style=\"text-align: right;\">\n      <th></th>\n      <th>h_booking_id</th>\n      <th>booking_datetime</th>\n      <th>checkin_date</th>\n      <th>checkout_date</th>\n      <th>hotel_id</th>\n      <th>hotel_country_code</th>\n      <th>hotel_live_date</th>\n      <th>hotel_star_rating</th>\n      <th>accommadation_type_name</th>\n      <th>charge_option</th>\n      <th>...</th>\n      <th>request_highfloor</th>\n      <th>request_largebed</th>\n      <th>request_twinbeds</th>\n      <th>request_airport</th>\n      <th>request_earlycheckin</th>\n      <th>cancellation_datetime</th>\n      <th>hotel_area_code</th>\n      <th>hotel_brand_code</th>\n      <th>hotel_chain_code</th>\n      <th>hotel_city_code</th>\n    </tr>\n  </thead>\n  <tbody>\n    <tr>\n      <th>0</th>\n      <td>-9223194055642672935</td>\n      <td>2018-06-28 21:15:00</td>\n      <td>2018-07-09 00:00:00</td>\n      <td>2018-07-13 00:00:00</td>\n      <td>6452</td>\n      <td>HK</td>\n      <td>2009-06-28 02:02:00</td>\n      <td>4.0</td>\n      <td>Hotel</td>\n      <td>Pay Now</td>\n      <td>...</td>\n      <td>0.0</td>\n      <td>0.0</td>\n      <td>0.0</td>\n      <td>0.0</td>\n      <td>0.0</td>\n      <td>NaN</td>\n      <td>1192</td>\n      <td>NaN</td>\n      <td>NaN</td>\n      <td>142</td>\n    </tr>\n    <tr>\n      <th>1</th>\n      <td>-9222713784330706132</td>\n      <td>2018-08-10 22:31:00</td>\n      <td>2018-08-16 00:00:00</td>\n      <td>2018-08-17 00:00:00</td>\n      <td>47729</td>\n      <td>CN</td>\n      <td>2011-06-07 11:52:00</td>\n      <td>4.0</td>\n      <td>Hotel</td>\n      <td>Pay Later</td>\n      <td>...</td>\n      <td>0.0</td>\n      <td>0.0</td>\n      <td>1.0</td>\n      <td>0.0</td>\n      <td>0.0</td>\n      <td>NaN</td>\n      <td>5617</td>\n      <td>902.0</td>\n      <td>600.0</td>\n      <td>1273</td>\n    </tr>\n    <tr>\n      <th>2</th>\n      <td>-9222411208325704942</td>\n      <td>2018-09-14 07:55:00</td>\n      <td>2018-09-14 00:00:00</td>\n      <td>2018-09-15 00:00:00</td>\n      <td>780431</td>\n      <td>KR</td>\n      <td>2014-11-20 15:43:00</td>\n      <td>4.0</td>\n      <td>Hotel</td>\n      <td>Pay Now</td>\n      <td>...</td>\n      <td>0.0</td>\n      <td>0.0</td>\n      <td>0.0</td>\n      <td>0.0</td>\n      <td>0.0</td>\n      <td>NaN</td>\n      <td>3819</td>\n      <td>NaN</td>\n      <td>NaN</td>\n      <td>2799</td>\n    </tr>\n    <tr>\n      <th>3</th>\n      <td>-9222220845872895471</td>\n      <td>2018-06-25 07:33:00</td>\n      <td>2018-07-02 00:00:00</td>\n      <td>2018-07-03 00:00:00</td>\n      <td>291365</td>\n      <td>JP</td>\n      <td>2011-11-21 12:27:00</td>\n      <td>3.0</td>\n      <td>Hotel</td>\n      <td>Pay Later</td>\n      <td>...</td>\n      <td>0.0</td>\n      <td>1.0</td>\n      <td>0.0</td>\n      <td>0.0</td>\n      <td>0.0</td>\n      <td>NaN</td>\n      <td>2379</td>\n      <td>466.0</td>\n      <td>236.0</td>\n      <td>1448</td>\n    </tr>\n    <tr>\n      <th>4</th>\n      <td>-9221127186162682116</td>\n      <td>2018-07-23 10:06:00</td>\n      <td>2018-08-09 00:00:00</td>\n      <td>2018-08-10 00:00:00</td>\n      <td>479046</td>\n      <td>TH</td>\n      <td>2013-06-06 10:04:00</td>\n      <td>3.0</td>\n      <td>Resort</td>\n      <td>Pay Later</td>\n      <td>...</td>\n      <td>0.0</td>\n      <td>1.0</td>\n      <td>0.0</td>\n      <td>0.0</td>\n      <td>0.0</td>\n      <td>2018-07-23</td>\n      <td>1506</td>\n      <td>NaN</td>\n      <td>NaN</td>\n      <td>616</td>\n    </tr>\n    <tr>\n      <th>...</th>\n      <td>...</td>\n      <td>...</td>\n      <td>...</td>\n      <td>...</td>\n      <td>...</td>\n      <td>...</td>\n      <td>...</td>\n      <td>...</td>\n      <td>...</td>\n      <td>...</td>\n      <td>...</td>\n      <td>...</td>\n      <td>...</td>\n      <td>...</td>\n      <td>...</td>\n      <td>...</td>\n      <td>...</td>\n      <td>...</td>\n      <td>...</td>\n      <td>...</td>\n      <td>...</td>\n    </tr>\n    <tr>\n      <th>58654</th>\n      <td>9221958224902563533</td>\n      <td>2018-07-18 22:07:00</td>\n      <td>2018-08-04 00:00:00</td>\n      <td>2018-08-05 00:00:00</td>\n      <td>2975682</td>\n      <td>ID</td>\n      <td>2017-10-12 11:01:00</td>\n      <td>2.0</td>\n      <td>Guest House / Bed &amp; Breakfast</td>\n      <td>Pay Now</td>\n      <td>...</td>\n      <td>0.0</td>\n      <td>1.0</td>\n      <td>0.0</td>\n      <td>0.0</td>\n      <td>0.0</td>\n      <td>2018-07-22</td>\n      <td>995</td>\n      <td>NaN</td>\n      <td>NaN</td>\n      <td>2066</td>\n    </tr>\n    <tr>\n      <th>58655</th>\n      <td>9222015611933681753</td>\n      <td>2018-09-05 12:07:00</td>\n      <td>2018-09-06 00:00:00</td>\n      <td>2018-09-08 00:00:00</td>\n      <td>3579174</td>\n      <td>PH</td>\n      <td>2017-11-30 00:42:00</td>\n      <td>4.0</td>\n      <td>Apartment</td>\n      <td>Pay Now</td>\n      <td>...</td>\n      <td>0.0</td>\n      <td>0.0</td>\n      <td>0.0</td>\n      <td>0.0</td>\n      <td>0.0</td>\n      <td>NaN</td>\n      <td>674</td>\n      <td>NaN</td>\n      <td>NaN</td>\n      <td>2310</td>\n    </tr>\n    <tr>\n      <th>58656</th>\n      <td>9222651806661094957</td>\n      <td>2018-06-08 23:23:00</td>\n      <td>2018-08-09 00:00:00</td>\n      <td>2018-08-11 00:00:00</td>\n      <td>407156</td>\n      <td>TH</td>\n      <td>2015-03-14 05:18:00</td>\n      <td>5.0</td>\n      <td>Hotel</td>\n      <td>Pay Now</td>\n      <td>...</td>\n      <td>0.0</td>\n      <td>0.0</td>\n      <td>0.0</td>\n      <td>0.0</td>\n      <td>0.0</td>\n      <td>NaN</td>\n      <td>3823</td>\n      <td>754.0</td>\n      <td>55.0</td>\n      <td>2477</td>\n    </tr>\n    <tr>\n      <th>58657</th>\n      <td>9223221736086584899</td>\n      <td>2018-09-02 08:18:00</td>\n      <td>2018-09-10 00:00:00</td>\n      <td>2018-09-12 00:00:00</td>\n      <td>303186</td>\n      <td>DE</td>\n      <td>2012-04-13 17:48:00</td>\n      <td>0.0</td>\n      <td>Hostel</td>\n      <td>Pay Now</td>\n      <td>...</td>\n      <td>0.0</td>\n      <td>0.0</td>\n      <td>1.0</td>\n      <td>0.0</td>\n      <td>0.0</td>\n      <td>NaN</td>\n      <td>4663</td>\n      <td>NaN</td>\n      <td>NaN</td>\n      <td>1935</td>\n    </tr>\n    <tr>\n      <th>58658</th>\n      <td>9223338323510018406</td>\n      <td>2018-07-07 10:46:00</td>\n      <td>2018-07-12 00:00:00</td>\n      <td>2018-07-14 00:00:00</td>\n      <td>2227632</td>\n      <td>HK</td>\n      <td>2017-06-19 10:06:00</td>\n      <td>4.0</td>\n      <td>Hotel</td>\n      <td>Pay Now</td>\n      <td>...</td>\n      <td>0.0</td>\n      <td>0.0</td>\n      <td>0.0</td>\n      <td>0.0</td>\n      <td>0.0</td>\n      <td>NaN</td>\n      <td>3023</td>\n      <td>477.0</td>\n      <td>638.0</td>\n      <td>142</td>\n    </tr>\n  </tbody>\n</table>\n<p>58654 rows × 39 columns</p>\n</div>"
     },
     "execution_count": 49,
     "metadata": {},
     "output_type": "execute_result"
    }
   ],
   "source": [
    "full_data_1 = full_data.loc[(full_data.hotel_country_code.notnull()) & (full_data.origin_country_code.notnull())]\n",
    "full_data_1[[\"request_airport\", \"request_largebed\", \"request_latecheckin\", \"request_twinbeds\", \"request_highfloor\", \"request_earlycheckin\", \"request_nonesmoke\"]] = full_data_1[[\"request_airport\", \"request_largebed\", \"request_latecheckin\", \"request_twinbeds\", \"request_highfloor\", \"request_earlycheckin\", \"request_nonesmoke\"]].fillna(value=0)\n",
    "\n"
   ],
   "metadata": {
    "collapsed": false,
    "pycharm": {
     "name": "#%%\n"
    }
   }
  },
  {
   "cell_type": "code",
   "execution_count": 46,
   "outputs": [
    {
     "data": {
      "text/plain": "              h_booking_id     booking_datetime         checkin_date  \\\n0     -9223194055642672935  2018-06-28 21:15:00  2018-07-09 00:00:00   \n1     -9222713784330706132  2018-08-10 22:31:00  2018-08-16 00:00:00   \n2     -9222411208325704942  2018-09-14 07:55:00  2018-09-14 00:00:00   \n3     -9222220845872895471  2018-06-25 07:33:00  2018-07-02 00:00:00   \n4     -9221127186162682116  2018-07-23 10:06:00  2018-08-09 00:00:00   \n...                    ...                  ...                  ...   \n58654  9221958224902563533  2018-07-18 22:07:00  2018-08-04 00:00:00   \n58655  9222015611933681753  2018-09-05 12:07:00  2018-09-06 00:00:00   \n58656  9222651806661094957  2018-06-08 23:23:00  2018-08-09 00:00:00   \n58657  9223221736086584899  2018-09-02 08:18:00  2018-09-10 00:00:00   \n58658  9223338323510018406  2018-07-07 10:46:00  2018-07-12 00:00:00   \n\n             checkout_date  hotel_id hotel_country_code      hotel_live_date  \\\n0      2018-07-13 00:00:00      6452                 HK  2009-06-28 02:02:00   \n1      2018-08-17 00:00:00     47729                 CN  2011-06-07 11:52:00   \n2      2018-09-15 00:00:00    780431                 KR  2014-11-20 15:43:00   \n3      2018-07-03 00:00:00    291365                 JP  2011-11-21 12:27:00   \n4      2018-08-10 00:00:00    479046                 TH  2013-06-06 10:04:00   \n...                    ...       ...                ...                  ...   \n58654  2018-08-05 00:00:00   2975682                 ID  2017-10-12 11:01:00   \n58655  2018-09-08 00:00:00   3579174                 PH  2017-11-30 00:42:00   \n58656  2018-08-11 00:00:00    407156                 TH  2015-03-14 05:18:00   \n58657  2018-09-12 00:00:00    303186                 DE  2012-04-13 17:48:00   \n58658  2018-07-14 00:00:00   2227632                 HK  2017-06-19 10:06:00   \n\n       hotel_star_rating        accommadation_type_name charge_option  ...  \\\n0                    4.0                          Hotel       Pay Now  ...   \n1                    4.0                          Hotel     Pay Later  ...   \n2                    4.0                          Hotel       Pay Now  ...   \n3                    3.0                          Hotel     Pay Later  ...   \n4                    3.0                         Resort     Pay Later  ...   \n...                  ...                            ...           ...  ...   \n58654                2.0  Guest House / Bed & Breakfast       Pay Now  ...   \n58655                4.0                      Apartment       Pay Now  ...   \n58656                5.0                          Hotel       Pay Now  ...   \n58657                0.0                         Hostel       Pay Now  ...   \n58658                4.0                          Hotel       Pay Now  ...   \n\n       request_highfloor request_largebed  request_twinbeds request_airport  \\\n0                    NaN              NaN               NaN             NaN   \n1                    0.0              0.0               1.0             0.0   \n2                    0.0              0.0               0.0             0.0   \n3                    0.0              1.0               0.0             0.0   \n4                    0.0              1.0               0.0             0.0   \n...                  ...              ...               ...             ...   \n58654                0.0              1.0               0.0             0.0   \n58655                0.0              0.0               0.0             0.0   \n58656                NaN              NaN               NaN             NaN   \n58657                0.0              0.0               1.0             0.0   \n58658                NaN              NaN               NaN             NaN   \n\n       request_earlycheckin  cancellation_datetime  hotel_area_code  \\\n0                       NaN                    NaN             1192   \n1                       0.0                    NaN             5617   \n2                       0.0                    NaN             3819   \n3                       0.0                    NaN             2379   \n4                       0.0             2018-07-23             1506   \n...                     ...                    ...              ...   \n58654                   0.0             2018-07-22              995   \n58655                   0.0                    NaN              674   \n58656                   NaN                    NaN             3823   \n58657                   0.0                    NaN             4663   \n58658                   NaN                    NaN             3023   \n\n       hotel_brand_code hotel_chain_code hotel_city_code  \n0                   NaN              NaN             142  \n1                 902.0            600.0            1273  \n2                   NaN              NaN            2799  \n3                 466.0            236.0            1448  \n4                   NaN              NaN             616  \n...                 ...              ...             ...  \n58654               NaN              NaN            2066  \n58655               NaN              NaN            2310  \n58656             754.0             55.0            2477  \n58657               NaN              NaN            1935  \n58658             477.0            638.0             142  \n\n[58654 rows x 39 columns]",
      "text/html": "<div>\n<style scoped>\n    .dataframe tbody tr th:only-of-type {\n        vertical-align: middle;\n    }\n\n    .dataframe tbody tr th {\n        vertical-align: top;\n    }\n\n    .dataframe thead th {\n        text-align: right;\n    }\n</style>\n<table border=\"1\" class=\"dataframe\">\n  <thead>\n    <tr style=\"text-align: right;\">\n      <th></th>\n      <th>h_booking_id</th>\n      <th>booking_datetime</th>\n      <th>checkin_date</th>\n      <th>checkout_date</th>\n      <th>hotel_id</th>\n      <th>hotel_country_code</th>\n      <th>hotel_live_date</th>\n      <th>hotel_star_rating</th>\n      <th>accommadation_type_name</th>\n      <th>charge_option</th>\n      <th>...</th>\n      <th>request_highfloor</th>\n      <th>request_largebed</th>\n      <th>request_twinbeds</th>\n      <th>request_airport</th>\n      <th>request_earlycheckin</th>\n      <th>cancellation_datetime</th>\n      <th>hotel_area_code</th>\n      <th>hotel_brand_code</th>\n      <th>hotel_chain_code</th>\n      <th>hotel_city_code</th>\n    </tr>\n  </thead>\n  <tbody>\n    <tr>\n      <th>0</th>\n      <td>-9223194055642672935</td>\n      <td>2018-06-28 21:15:00</td>\n      <td>2018-07-09 00:00:00</td>\n      <td>2018-07-13 00:00:00</td>\n      <td>6452</td>\n      <td>HK</td>\n      <td>2009-06-28 02:02:00</td>\n      <td>4.0</td>\n      <td>Hotel</td>\n      <td>Pay Now</td>\n      <td>...</td>\n      <td>NaN</td>\n      <td>NaN</td>\n      <td>NaN</td>\n      <td>NaN</td>\n      <td>NaN</td>\n      <td>NaN</td>\n      <td>1192</td>\n      <td>NaN</td>\n      <td>NaN</td>\n      <td>142</td>\n    </tr>\n    <tr>\n      <th>1</th>\n      <td>-9222713784330706132</td>\n      <td>2018-08-10 22:31:00</td>\n      <td>2018-08-16 00:00:00</td>\n      <td>2018-08-17 00:00:00</td>\n      <td>47729</td>\n      <td>CN</td>\n      <td>2011-06-07 11:52:00</td>\n      <td>4.0</td>\n      <td>Hotel</td>\n      <td>Pay Later</td>\n      <td>...</td>\n      <td>0.0</td>\n      <td>0.0</td>\n      <td>1.0</td>\n      <td>0.0</td>\n      <td>0.0</td>\n      <td>NaN</td>\n      <td>5617</td>\n      <td>902.0</td>\n      <td>600.0</td>\n      <td>1273</td>\n    </tr>\n    <tr>\n      <th>2</th>\n      <td>-9222411208325704942</td>\n      <td>2018-09-14 07:55:00</td>\n      <td>2018-09-14 00:00:00</td>\n      <td>2018-09-15 00:00:00</td>\n      <td>780431</td>\n      <td>KR</td>\n      <td>2014-11-20 15:43:00</td>\n      <td>4.0</td>\n      <td>Hotel</td>\n      <td>Pay Now</td>\n      <td>...</td>\n      <td>0.0</td>\n      <td>0.0</td>\n      <td>0.0</td>\n      <td>0.0</td>\n      <td>0.0</td>\n      <td>NaN</td>\n      <td>3819</td>\n      <td>NaN</td>\n      <td>NaN</td>\n      <td>2799</td>\n    </tr>\n    <tr>\n      <th>3</th>\n      <td>-9222220845872895471</td>\n      <td>2018-06-25 07:33:00</td>\n      <td>2018-07-02 00:00:00</td>\n      <td>2018-07-03 00:00:00</td>\n      <td>291365</td>\n      <td>JP</td>\n      <td>2011-11-21 12:27:00</td>\n      <td>3.0</td>\n      <td>Hotel</td>\n      <td>Pay Later</td>\n      <td>...</td>\n      <td>0.0</td>\n      <td>1.0</td>\n      <td>0.0</td>\n      <td>0.0</td>\n      <td>0.0</td>\n      <td>NaN</td>\n      <td>2379</td>\n      <td>466.0</td>\n      <td>236.0</td>\n      <td>1448</td>\n    </tr>\n    <tr>\n      <th>4</th>\n      <td>-9221127186162682116</td>\n      <td>2018-07-23 10:06:00</td>\n      <td>2018-08-09 00:00:00</td>\n      <td>2018-08-10 00:00:00</td>\n      <td>479046</td>\n      <td>TH</td>\n      <td>2013-06-06 10:04:00</td>\n      <td>3.0</td>\n      <td>Resort</td>\n      <td>Pay Later</td>\n      <td>...</td>\n      <td>0.0</td>\n      <td>1.0</td>\n      <td>0.0</td>\n      <td>0.0</td>\n      <td>0.0</td>\n      <td>2018-07-23</td>\n      <td>1506</td>\n      <td>NaN</td>\n      <td>NaN</td>\n      <td>616</td>\n    </tr>\n    <tr>\n      <th>...</th>\n      <td>...</td>\n      <td>...</td>\n      <td>...</td>\n      <td>...</td>\n      <td>...</td>\n      <td>...</td>\n      <td>...</td>\n      <td>...</td>\n      <td>...</td>\n      <td>...</td>\n      <td>...</td>\n      <td>...</td>\n      <td>...</td>\n      <td>...</td>\n      <td>...</td>\n      <td>...</td>\n      <td>...</td>\n      <td>...</td>\n      <td>...</td>\n      <td>...</td>\n      <td>...</td>\n    </tr>\n    <tr>\n      <th>58654</th>\n      <td>9221958224902563533</td>\n      <td>2018-07-18 22:07:00</td>\n      <td>2018-08-04 00:00:00</td>\n      <td>2018-08-05 00:00:00</td>\n      <td>2975682</td>\n      <td>ID</td>\n      <td>2017-10-12 11:01:00</td>\n      <td>2.0</td>\n      <td>Guest House / Bed &amp; Breakfast</td>\n      <td>Pay Now</td>\n      <td>...</td>\n      <td>0.0</td>\n      <td>1.0</td>\n      <td>0.0</td>\n      <td>0.0</td>\n      <td>0.0</td>\n      <td>2018-07-22</td>\n      <td>995</td>\n      <td>NaN</td>\n      <td>NaN</td>\n      <td>2066</td>\n    </tr>\n    <tr>\n      <th>58655</th>\n      <td>9222015611933681753</td>\n      <td>2018-09-05 12:07:00</td>\n      <td>2018-09-06 00:00:00</td>\n      <td>2018-09-08 00:00:00</td>\n      <td>3579174</td>\n      <td>PH</td>\n      <td>2017-11-30 00:42:00</td>\n      <td>4.0</td>\n      <td>Apartment</td>\n      <td>Pay Now</td>\n      <td>...</td>\n      <td>0.0</td>\n      <td>0.0</td>\n      <td>0.0</td>\n      <td>0.0</td>\n      <td>0.0</td>\n      <td>NaN</td>\n      <td>674</td>\n      <td>NaN</td>\n      <td>NaN</td>\n      <td>2310</td>\n    </tr>\n    <tr>\n      <th>58656</th>\n      <td>9222651806661094957</td>\n      <td>2018-06-08 23:23:00</td>\n      <td>2018-08-09 00:00:00</td>\n      <td>2018-08-11 00:00:00</td>\n      <td>407156</td>\n      <td>TH</td>\n      <td>2015-03-14 05:18:00</td>\n      <td>5.0</td>\n      <td>Hotel</td>\n      <td>Pay Now</td>\n      <td>...</td>\n      <td>NaN</td>\n      <td>NaN</td>\n      <td>NaN</td>\n      <td>NaN</td>\n      <td>NaN</td>\n      <td>NaN</td>\n      <td>3823</td>\n      <td>754.0</td>\n      <td>55.0</td>\n      <td>2477</td>\n    </tr>\n    <tr>\n      <th>58657</th>\n      <td>9223221736086584899</td>\n      <td>2018-09-02 08:18:00</td>\n      <td>2018-09-10 00:00:00</td>\n      <td>2018-09-12 00:00:00</td>\n      <td>303186</td>\n      <td>DE</td>\n      <td>2012-04-13 17:48:00</td>\n      <td>0.0</td>\n      <td>Hostel</td>\n      <td>Pay Now</td>\n      <td>...</td>\n      <td>0.0</td>\n      <td>0.0</td>\n      <td>1.0</td>\n      <td>0.0</td>\n      <td>0.0</td>\n      <td>NaN</td>\n      <td>4663</td>\n      <td>NaN</td>\n      <td>NaN</td>\n      <td>1935</td>\n    </tr>\n    <tr>\n      <th>58658</th>\n      <td>9223338323510018406</td>\n      <td>2018-07-07 10:46:00</td>\n      <td>2018-07-12 00:00:00</td>\n      <td>2018-07-14 00:00:00</td>\n      <td>2227632</td>\n      <td>HK</td>\n      <td>2017-06-19 10:06:00</td>\n      <td>4.0</td>\n      <td>Hotel</td>\n      <td>Pay Now</td>\n      <td>...</td>\n      <td>NaN</td>\n      <td>NaN</td>\n      <td>NaN</td>\n      <td>NaN</td>\n      <td>NaN</td>\n      <td>NaN</td>\n      <td>3023</td>\n      <td>477.0</td>\n      <td>638.0</td>\n      <td>142</td>\n    </tr>\n  </tbody>\n</table>\n<p>58654 rows × 39 columns</p>\n</div>"
     },
     "execution_count": 46,
     "metadata": {},
     "output_type": "execute_result"
    }
   ],
   "source": [
    "full_data_1"
   ],
   "metadata": {
    "collapsed": false,
    "pycharm": {
     "name": "#%%\n"
    }
   }
  },
  {
   "cell_type": "markdown",
   "source": [],
   "metadata": {
    "collapsed": false
   }
  },
  {
   "cell_type": "markdown",
   "source": [
    "construct a few new feature columns:\n",
    "    - sum of special requests -> number\n",
    "    - same country of \"hotel country code\" and \"customer nationality\"\n",
    "    -"
   ],
   "metadata": {
    "collapsed": false
   }
  },
  {
   "cell_type": "code",
   "execution_count": null,
   "outputs": [],
   "source": [],
   "metadata": {
    "collapsed": false,
    "pycharm": {
     "name": "#%%\n"
    }
   }
  },
  {
   "cell_type": "code",
   "execution_count": 39,
   "outputs": [
    {
     "data": {
      "text/plain": "          h_booking_id  hotel_id accommadation_type_name  hotel_star_rating  \\\n0 -9223194055642672935      6452                   Hotel                4.0   \n1 -9222713784330706132     47729                   Hotel                4.0   \n2 -9222411208325704942    780431                   Hotel                4.0   \n3 -9222220845872895471    291365                   Hotel                3.0   \n4 -9221127186162682116    479046                  Resort                3.0   \n5 -9220467519202693449     59272                  Resort                3.0   \n6 -9220037355644368516    400966      Serviced Apartment                3.5   \n7 -9219746746155641867     69287                   Hotel                3.5   \n\n  customer_nationality cancellation_datetime  \n0                China                   NaN  \n1         South Africa                   NaN  \n2          South Korea                   NaN  \n3            Singapore                   NaN  \n4             Thailand            2018-07-23  \n5              UNKNOWN            2018-05-03  \n6             Thailand                   NaN  \n7               Taiwan            2018-07-23  ",
      "text/html": "<div>\n<style scoped>\n    .dataframe tbody tr th:only-of-type {\n        vertical-align: middle;\n    }\n\n    .dataframe tbody tr th {\n        vertical-align: top;\n    }\n\n    .dataframe thead th {\n        text-align: right;\n    }\n</style>\n<table border=\"1\" class=\"dataframe\">\n  <thead>\n    <tr style=\"text-align: right;\">\n      <th></th>\n      <th>h_booking_id</th>\n      <th>hotel_id</th>\n      <th>accommadation_type_name</th>\n      <th>hotel_star_rating</th>\n      <th>customer_nationality</th>\n      <th>cancellation_datetime</th>\n    </tr>\n  </thead>\n  <tbody>\n    <tr>\n      <th>0</th>\n      <td>-9223194055642672935</td>\n      <td>6452</td>\n      <td>Hotel</td>\n      <td>4.0</td>\n      <td>China</td>\n      <td>NaN</td>\n    </tr>\n    <tr>\n      <th>1</th>\n      <td>-9222713784330706132</td>\n      <td>47729</td>\n      <td>Hotel</td>\n      <td>4.0</td>\n      <td>South Africa</td>\n      <td>NaN</td>\n    </tr>\n    <tr>\n      <th>2</th>\n      <td>-9222411208325704942</td>\n      <td>780431</td>\n      <td>Hotel</td>\n      <td>4.0</td>\n      <td>South Korea</td>\n      <td>NaN</td>\n    </tr>\n    <tr>\n      <th>3</th>\n      <td>-9222220845872895471</td>\n      <td>291365</td>\n      <td>Hotel</td>\n      <td>3.0</td>\n      <td>Singapore</td>\n      <td>NaN</td>\n    </tr>\n    <tr>\n      <th>4</th>\n      <td>-9221127186162682116</td>\n      <td>479046</td>\n      <td>Resort</td>\n      <td>3.0</td>\n      <td>Thailand</td>\n      <td>2018-07-23</td>\n    </tr>\n    <tr>\n      <th>5</th>\n      <td>-9220467519202693449</td>\n      <td>59272</td>\n      <td>Resort</td>\n      <td>3.0</td>\n      <td>UNKNOWN</td>\n      <td>2018-05-03</td>\n    </tr>\n    <tr>\n      <th>6</th>\n      <td>-9220037355644368516</td>\n      <td>400966</td>\n      <td>Serviced Apartment</td>\n      <td>3.5</td>\n      <td>Thailand</td>\n      <td>NaN</td>\n    </tr>\n    <tr>\n      <th>7</th>\n      <td>-9219746746155641867</td>\n      <td>69287</td>\n      <td>Hotel</td>\n      <td>3.5</td>\n      <td>Taiwan</td>\n      <td>2018-07-23</td>\n    </tr>\n  </tbody>\n</table>\n</div>"
     },
     "execution_count": 39,
     "metadata": {},
     "output_type": "execute_result"
    }
   ],
   "source": [
    "features = np.asarray([\"h_booking_id\",\n",
    "                          \"hotel_id\",\n",
    "                          \"accommadation_type_name\",\n",
    "                          \"hotel_star_rating\",\n",
    "                          \"customer_nationality\"])\n",
    "labels_colname = \"cancellation_datetime\"\n",
    "a = np.append(features,labels_colname)\n",
    "df = full_data[a]\n",
    "df.head(8)"
   ],
   "metadata": {
    "collapsed": false,
    "pycharm": {
     "name": "#%%\n"
    }
   }
  },
  {
   "cell_type": "code",
   "execution_count": 52,
   "outputs": [
    {
     "name": "stderr",
     "output_type": "stream",
     "text": [
      "C:\\Users\\PC\\.conda\\envs\\iml.env\\lib\\site-packages\\pandas\\core\\indexing.py:1797: SettingWithCopyWarning: \n",
      "A value is trying to be set on a copy of a slice from a DataFrame.\n",
      "Try using .loc[row_indexer,col_indexer] = value instead\n",
      "\n",
      "See the caveats in the documentation: https://pandas.pydata.org/pandas-docs/stable/user_guide/indexing.html#returning-a-view-versus-a-copy\n",
      "  self._setitem_single_column(loc, v, pi)\n"
     ]
    },
    {
     "ename": "AttributeError",
     "evalue": "module 'pandas' has no attribute 'series'",
     "output_type": "error",
     "traceback": [
      "\u001B[1;31m---------------------------------------------------------------------------\u001B[0m",
      "\u001B[1;31mAttributeError\u001B[0m                            Traceback (most recent call last)",
      "\u001B[1;32m~\\AppData\\Local\\Temp/ipykernel_7204/1235438718.py\u001B[0m in \u001B[0;36m<module>\u001B[1;34m\u001B[0m\n\u001B[0;32m      1\u001B[0m \u001B[0mis_canceled\u001B[0m \u001B[1;33m=\u001B[0m \u001B[0mdf\u001B[0m\u001B[1;33m.\u001B[0m\u001B[0mcancellation_datetime\u001B[0m\u001B[1;33m.\u001B[0m\u001B[0mnotnull\u001B[0m\u001B[1;33m(\u001B[0m\u001B[1;33m)\u001B[0m\u001B[1;33m\u001B[0m\u001B[1;33m\u001B[0m\u001B[0m\n\u001B[0;32m      2\u001B[0m \u001B[0mdf\u001B[0m\u001B[1;33m.\u001B[0m\u001B[0mloc\u001B[0m\u001B[1;33m[\u001B[0m\u001B[1;34m'canceled'\u001B[0m\u001B[1;33m]\u001B[0m \u001B[1;33m=\u001B[0m \u001B[0mis_canceled\u001B[0m\u001B[1;33m.\u001B[0m\u001B[0mastype\u001B[0m\u001B[1;33m(\u001B[0m\u001B[0mint\u001B[0m\u001B[1;33m)\u001B[0m\u001B[1;33m\u001B[0m\u001B[1;33m\u001B[0m\u001B[0m\n\u001B[1;32m----> 3\u001B[1;33m \u001B[0mdays_after_booking\u001B[0m \u001B[1;33m=\u001B[0m \u001B[0mpd\u001B[0m\u001B[1;33m.\u001B[0m\u001B[0mseries\u001B[0m\u001B[1;33m(\u001B[0m\u001B[1;33m)\u001B[0m\u001B[1;33m\u001B[0m\u001B[1;33m\u001B[0m\u001B[0m\n\u001B[0m",
      "\u001B[1;32m~\\.conda\\envs\\iml.env\\lib\\site-packages\\pandas\\__init__.py\u001B[0m in \u001B[0;36m__getattr__\u001B[1;34m(name)\u001B[0m\n\u001B[0;32m    242\u001B[0m         \u001B[1;32mreturn\u001B[0m \u001B[0m_SparseArray\u001B[0m\u001B[1;33m\u001B[0m\u001B[1;33m\u001B[0m\u001B[0m\n\u001B[0;32m    243\u001B[0m \u001B[1;33m\u001B[0m\u001B[0m\n\u001B[1;32m--> 244\u001B[1;33m     \u001B[1;32mraise\u001B[0m \u001B[0mAttributeError\u001B[0m\u001B[1;33m(\u001B[0m\u001B[1;34mf\"module 'pandas' has no attribute '{name}'\"\u001B[0m\u001B[1;33m)\u001B[0m\u001B[1;33m\u001B[0m\u001B[1;33m\u001B[0m\u001B[0m\n\u001B[0m\u001B[0;32m    245\u001B[0m \u001B[1;33m\u001B[0m\u001B[0m\n\u001B[0;32m    246\u001B[0m \u001B[1;33m\u001B[0m\u001B[0m\n",
      "\u001B[1;31mAttributeError\u001B[0m: module 'pandas' has no attribute 'series'"
     ]
    }
   ],
   "source": [
    "is_canceled = df.cancellation_datetime.notnull()\n",
    "df.loc['canceled'] = is_canceled.astype(int)\n",
    "days_after_booking = pd.series()"
   ],
   "metadata": {
    "collapsed": false,
    "pycharm": {
     "name": "#%%\n"
    }
   }
  },
  {
   "cell_type": "code",
   "execution_count": 41,
   "outputs": [
    {
     "data": {
      "text/plain": "hotel_id       \n1         14669           NaN\n          49732           NaN\n16        44540    2018-04-29\n          57170           NaN\n75        36642           NaN\n                      ...    \n5797970   43586           NaN\n5798032   28021           NaN\n5799579   22813           NaN\n5808200   14892    2018-09-22\n5823993   17640    2018-09-26\nName: cancellation_datetime, Length: 58659, dtype: object"
     },
     "execution_count": 41,
     "metadata": {},
     "output_type": "execute_result"
    }
   ],
   "source": [
    "df.groupby('hotel_id').apply(lambda df: df.cancellation_datetime)"
   ],
   "metadata": {
    "collapsed": false,
    "pycharm": {
     "name": "#%%\n"
    }
   }
  }
 ],
 "metadata": {
  "kernelspec": {
   "name": "conda-env-.conda-iml.env-py",
   "language": "python",
   "display_name": "Python [conda env:.conda-iml.env] *"
  },
  "language_info": {
   "codemirror_mode": {
    "name": "ipython",
    "version": 2
   },
   "file_extension": ".py",
   "mimetype": "text/x-python",
   "name": "python",
   "nbconvert_exporter": "python",
   "pygments_lexer": "ipython2",
   "version": "2.7.6"
  }
 },
 "nbformat": 4,
 "nbformat_minor": 0
}